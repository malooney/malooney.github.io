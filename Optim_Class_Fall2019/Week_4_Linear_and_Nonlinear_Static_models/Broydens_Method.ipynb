{
 "cells": [
  {
   "cell_type": "markdown",
   "metadata": {},
   "source": [
    "# Broyden's Method\n",
    "\n",
    "Recall that a potential shortcoming of Newton's method for nonlinear equations is that the derivatives required for the Jacobian may not be available or may be difficult to calculate. Secant methods, also known as quasi-Newton methods, do not require the calculation of the Jacobian; they construct an approximation to the matrix, which is updated at each iteration, so that it behaves similarly to the true Jacobian along the step. Broyden's method is the most successful secant-method for solving systems of nonlinear equations.\n",
    "\n",
    "Let $B_k$ be the Jacobian approximation at iteration $k$ and let $s_k=x_{k+1}−x_k$. Then, the updated Jacobian approximation $B_{k+1}$ must satisfy the secant equation\n",
    "\n",
    "\\begin{equation}\n",
    "B_{k+1} s_{k}=f(x_{k+1})−f(x_k)\n",
    "\\end{equation}\n",
    "\n",
    "Given an initial matrix $B_\\theta$ (often a finite-difference approximation to the Jacobian matrix), Broyden's method generates subsequent matrices by the update formula\n",
    "\n",
    "\\begin{equation}\n",
    "B_{k+1}=B_k+\\frac{(y_k−B_k s_k)s^{T}_k}{‖s_k‖^{2}_2}\n",
    "\\end{equation}\n",
    "\n",
    "where $y_k=f(x_{k+1})−f(x_k)$.\n",
    "\n",
    "The remarkable feature of Broyden's method is that it is able to generate a reasonable approximation to the Jacobian matrix with no additional evaluations of the function. This feature is partially explained by noting that, because of equation (1), the updated $B_{k+1}$ mimics the behavior of the true Jacobian along the line joining $x_k$ to $x_{k+1}$.\n",
    "\n",
    "## References\n",
    "\n",
    "* https://neos-guide.org/content/broydens-method\n",
    "\n",
    "* Nocedal, J. and Wright, S. J. 1999. Numerical Optimization. Springer-Verlag, New York."
   ]
  }
 ],
 "metadata": {
  "kernelspec": {
   "display_name": "Python 3",
   "language": "python",
   "name": "python3"
  },
  "language_info": {
   "codemirror_mode": {
    "name": "ipython",
    "version": 3
   },
   "file_extension": ".py",
   "mimetype": "text/x-python",
   "name": "python",
   "nbconvert_exporter": "python",
   "pygments_lexer": "ipython3",
   "version": "3.7.3"
  }
 },
 "nbformat": 4,
 "nbformat_minor": 4
}
